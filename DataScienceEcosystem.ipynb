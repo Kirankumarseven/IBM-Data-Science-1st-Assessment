{
 "cells": [
  {
   "cell_type": "markdown",
   "id": "64bb0553-db2f-4678-8068-1a3c511291d2",
   "metadata": {},
   "source": [
    "# Data Science Tools and Ecosystem"
   ]
  },
  {
   "cell_type": "markdown",
   "id": "b0a3e4ab-d82b-473f-b284-db9feb68cd87",
   "metadata": {},
   "source": [
    "In this notebook, Data Science Tools and Ecosystem are summarized."
   ]
  },
  {
   "cell_type": "markdown",
   "id": "dd086027-6ecd-4453-aca4-899f54c39114",
   "metadata": {},
   "source": [
    "# **Objectives**:\n",
    "* List popular languages for Data Science\n",
    "* Data Science Tools\n",
    "* Examples of arithmetic expressions"
   ]
  },
  {
   "cell_type": "markdown",
   "id": "27475c70-87af-4860-a7a0-97459bf15b7d",
   "metadata": {},
   "source": [
    "# Some of the popular languages that Data Scientists use are:\n",
    "1. Python\n",
    "2. SQL\n",
    "3. R"
   ]
  },
  {
   "cell_type": "markdown",
   "id": "9a667df6-8c36-499b-87f0-695f378996ef",
   "metadata": {},
   "source": [
    "# Some of the commonly used libraries used by Data Scientists include:\n",
    "1. Pandas\n",
    "2. Numpy\n",
    "3. scikit-learn\n",
    "4. Seaborn\n",
    "5. TensorFlow"
   ]
  },
  {
   "cell_type": "markdown",
   "id": "03beeb40-349d-4f6b-87ab-791ae1ad9433",
   "metadata": {},
   "source": [
    "# Data Science Tools\n",
    "1. Jupyter\n",
    "2. VS code\n",
    "3. R"
   ]
  },
  {
   "cell_type": "markdown",
   "id": "5654f744-3d0e-499f-bef6-d79e677e806f",
   "metadata": {},
   "source": [
    "### Below are a few examples of evaluating arithmetic expressions in Python"
   ]
  },
  {
   "cell_type": "code",
   "execution_count": 1,
   "id": "fd1aabb8-43e8-40a3-ac22-379777e64695",
   "metadata": {},
   "outputs": [
    {
     "data": {
      "text/plain": [
       "17"
      ]
     },
     "execution_count": 1,
     "metadata": {},
     "output_type": "execute_result"
    }
   ],
   "source": [
    "# This line of code calculates the result of the expression (3 * 4) + 5.\n",
    "# It first multiplies 3 by 4, then adds 5 to the result.\n",
    "(3*4) + 5"
   ]
  },
  {
   "cell_type": "code",
   "execution_count": 5,
   "id": "bda3a97b-16c5-4372-aaa7-255d5b3d89fd",
   "metadata": {},
   "outputs": [
    {
     "name": "stdout",
     "output_type": "stream",
     "text": [
      "3.3333333333333335 hours\n"
     ]
    }
   ],
   "source": [
    "# Calculate the number of hours in 200 minutes\n",
    "minutes =  200 \n",
    "hours  = 60 \n",
    "result = minutes/hours\n",
    "print(f'{result} hours')"
   ]
  },
  {
   "cell_type": "markdown",
   "id": "a0107c43-81c0-4951-833d-70d2e30c6c17",
   "metadata": {},
   "source": [
    "## Author\n",
    "Kiran Kumar"
   ]
  },
  {
   "cell_type": "code",
   "execution_count": null,
   "id": "5facf7c9-e458-4df4-ac64-7aae85e848cd",
   "metadata": {},
   "outputs": [],
   "source": []
  }
 ],
 "metadata": {
  "kernelspec": {
   "display_name": "Python 3 (ipykernel)",
   "language": "python",
   "name": "python3"
  },
  "language_info": {
   "codemirror_mode": {
    "name": "ipython",
    "version": 3
   },
   "file_extension": ".py",
   "mimetype": "text/x-python",
   "name": "python",
   "nbconvert_exporter": "python",
   "pygments_lexer": "ipython3",
   "version": "3.12.3"
  }
 },
 "nbformat": 4,
 "nbformat_minor": 5
}
